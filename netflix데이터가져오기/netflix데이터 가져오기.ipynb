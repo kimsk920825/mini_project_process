{
 "metadata": {
  "language_info": {
   "codemirror_mode": {
    "name": "ipython",
    "version": 3
   },
   "file_extension": ".py",
   "mimetype": "text/x-python",
   "name": "python",
   "nbconvert_exporter": "python",
   "pygments_lexer": "ipython3",
   "version": "3.8.3-final"
  },
  "orig_nbformat": 2,
  "kernelspec": {
   "name": "Python 3.8.3 64-bit",
   "display_name": "Python 3.8.3 64-bit",
   "metadata": {
    "interpreter": {
     "hash": "5fa5ee42bf3228b81d4a8abbd34e3ac789ee757ba3f727da7fa189fb0ce61fcf"
    }
   }
  }
 },
 "nbformat": 4,
 "nbformat_minor": 2,
 "cells": [
  {
   "cell_type": "code",
   "execution_count": 3,
   "metadata": {},
   "outputs": [
    {
     "output_type": "stream",
     "name": "stdout",
     "text": [
      "D:\\myPyCode\\팀프로젝트\n"
     ]
    }
   ],
   "source": [
    "cd D:\\myPyCode\\팀프로젝트"
   ]
  },
  {
   "cell_type": "code",
   "execution_count": 70,
   "metadata": {},
   "outputs": [],
   "source": [
    "import pandas as pd\n",
    "import numpy as np\n",
    "\n",
    "df = pd.read_csv(\"netflix_titles.csv\",encoding=\"latin1\")\n",
    "select = df[['show_id', 'type', 'title', 'date_added','release_year', 'rating', 'duration','listed_in', 'description']]\n",
    "# df.columns = 목록표 불러오기\n",
    "# df['show_id'] 하나의 열을 불러올수 있다.\n"
   ]
  },
  {
   "cell_type": "code",
   "execution_count": 74,
   "metadata": {},
   "outputs": [],
   "source": [
    "import pandas as pd\n",
    "import numpy as np\n",
    "\n",
    "df = pd.read_csv(\"netflix_titles.csv\",encoding=\"latin1\")\n",
    "select = pd.DataFrame(df,columns = ['show_id', 'type', 'title', 'date_added','release_year', 'rating', 'duration','listed_in', 'description'])b"
   ]
  },
  {
   "cell_type": "code",
   "execution_count": 84,
   "metadata": {},
   "outputs": [
    {
     "output_type": "stream",
     "name": "stdout",
     "text": [
      "Collecting matplotlibWARNING: You are using pip version 19.2.3, however version 20.2.4 is available.\n",
      "You should consider upgrading via the 'python -m pip install --upgrade pip' command.\n",
      "\n",
      "  Downloading https://files.pythonhosted.org/packages/ea/6c/c9dd8f3e98469013ea215ec3b71176099e1bf3adcad718d81e481796541d/matplotlib-3.3.2-cp38-cp38-win_amd64.whl (8.5MB)\n",
      "Requirement already satisfied: numpy>=1.15 in d:\\phython\\lib\\site-packages (from matplotlib) (1.19.4)\n",
      "Requirement already satisfied: pillow>=6.2.0 in d:\\phython\\lib\\site-packages (from matplotlib) (8.0.1)\n",
      "Collecting kiwisolver>=1.0.1 (from matplotlib)\n",
      "  Downloading https://files.pythonhosted.org/packages/a8/be/9a8f1a59c94f99544366fd3680373ccd6cf6dcd504e02d504486e9f0943b/kiwisolver-1.3.1-cp38-cp38-win_amd64.whl (51kB)\n",
      "Collecting pyparsing!=2.0.4,!=2.1.2,!=2.1.6,>=2.0.3 (from matplotlib)\n",
      "  Downloading https://files.pythonhosted.org/packages/8a/bb/488841f56197b13700afd5658fc279a2025a39e22449b7cf29864669b15d/pyparsing-2.4.7-py2.py3-none-any.whl (67kB)\n",
      "Requirement already satisfied: python-dateutil>=2.1 in c:\\users\\지승배\\appdata\\roaming\\python\\python38\\site-packages (from matplotlib) (2.8.1)\n",
      "Collecting cycler>=0.10 (from matplotlib)\n",
      "  Downloading https://files.pythonhosted.org/packages/f7/d2/e07d3ebb2bd7af696440ce7e754c59dd546ffe1bbe732c8ab68b9c834e61/cycler-0.10.0-py2.py3-none-any.whl\n",
      "Requirement already satisfied: certifi>=2020.06.20 in d:\\phython\\lib\\site-packages (from matplotlib) (2020.6.20)\n",
      "Requirement already satisfied: six>=1.5 in c:\\users\\지승배\\appdata\\roaming\\python\\python38\\site-packages (from python-dateutil>=2.1->matplotlib) (1.15.0)\n",
      "Installing collected packages: kiwisolver, pyparsing, cycler, matplotlib\n",
      "Successfully installed cycler-0.10.0 kiwisolver-1.3.1 matplotlib-3.3.2 pyparsing-2.4.7\n"
     ]
    }
   ],
   "source": [
    "!pip install matplotlib\n"
   ]
  },
  {
   "cell_type": "code",
   "execution_count": 138,
   "metadata": {},
   "outputs": [
    {
     "output_type": "execute_result",
     "data": {
      "text/plain": [
       "       show_id     type                                       title  \\\n",
       "4289  81030762  TV Show           Pioneers: First Women Filmmakers*   \n",
       "4076  80161851  TV Show         Pioneers of African-American Cinema   \n",
       "5978  70172488  TV Show         The Twilight Zone (Original Series)   \n",
       "5977  70155574  TV Show                      The Andy Griffith Show   \n",
       "5701  70136140  TV Show                                   Star Trek   \n",
       "...        ...      ...                                         ...   \n",
       "3423  80221553  TV Show            Kipo and the Age of Wonderbeasts   \n",
       "3376  81062828  TV Show  Killer Inside: The Mind of Aaron Hernandez   \n",
       "3360  80996973  TV Show                           Handsome Siblings   \n",
       "3350  80995039  TV Show                                        Ares   \n",
       "3351  81062580  TV Show                          Nailed It! Germany   \n",
       "\n",
       "            date_added  release_year    rating   duration  \\\n",
       "4289         30-Dec-18          1925     TV-PG   1 Season   \n",
       "4076         01-Feb-17          1946     TV-14   1 Season   \n",
       "5978      July 1, 2017          1963     TV-PG  4 Seasons   \n",
       "5977      July 1, 2017          1967      TV-G  8 Seasons   \n",
       "5701   October 1, 2017          1968     TV-PG  3 Seasons   \n",
       "...                ...           ...       ...        ...   \n",
       "3423         14-Jan-20          2020  TV-Y7-FV   1 Season   \n",
       "3376         15-Jan-20          2020     TV-MA   1 Season   \n",
       "3360         16-Jan-20          2020     TV-14   1 Season   \n",
       "3350         17-Jan-20          2020     TV-MA   1 Season   \n",
       "3351         17-Jan-20          2020     TV-14   1 Season   \n",
       "\n",
       "                                              listed_in  \\\n",
       "4289                                           TV Shows   \n",
       "4076                                           TV Shows   \n",
       "5978             Classic & Cult TV, TV Sci-Fi & Fantasy   \n",
       "5977                     Classic & Cult TV, TV Comedies   \n",
       "5701  Classic & Cult TV, TV Action & Adventure, TV S...   \n",
       "...                                                 ...   \n",
       "3423                              Kids' TV, TV Comedies   \n",
       "3376                         Crime TV Shows, Docuseries   \n",
       "3360  International TV Shows, TV Dramas, TV Sci-Fi &...   \n",
       "3350       International TV Shows, TV Dramas, TV Horror   \n",
       "3351                 International TV Shows, Reality TV   \n",
       "\n",
       "                                            description  \n",
       "4289  This collection restores films from women who ...  \n",
       "4076  This newly preserved collection features more ...  \n",
       "5978  Hosted by creator Rod Serling, this groundbrea...  \n",
       "5977  Homespun humor and easygoing Sheriff Andy Tayl...  \n",
       "5701  Led by unflappable Capt. Kirk, the crew of the...  \n",
       "...                                                 ...  \n",
       "3423  Making her way through a world of mutant anima...  \n",
       "3376  Via interviews with friends, players and insid...  \n",
       "3360  Clashing martial arts twins face relentless vi...  \n",
       "3350  Aiming to become part of Amsterdam's elite, an...  \n",
       "3351  Home cooks try ??and inevitably fail ??to re-c...  \n",
       "\n",
       "[1968 rows x 9 columns]"
      ],
      "text/html": "<div>\n<style scoped>\n    .dataframe tbody tr th:only-of-type {\n        vertical-align: middle;\n    }\n\n    .dataframe tbody tr th {\n        vertical-align: top;\n    }\n\n    .dataframe thead th {\n        text-align: right;\n    }\n</style>\n<table border=\"1\" class=\"dataframe\">\n  <thead>\n    <tr style=\"text-align: right;\">\n      <th></th>\n      <th>show_id</th>\n      <th>type</th>\n      <th>title</th>\n      <th>date_added</th>\n      <th>release_year</th>\n      <th>rating</th>\n      <th>duration</th>\n      <th>listed_in</th>\n      <th>description</th>\n    </tr>\n  </thead>\n  <tbody>\n    <tr>\n      <th>4289</th>\n      <td>81030762</td>\n      <td>TV Show</td>\n      <td>Pioneers: First Women Filmmakers*</td>\n      <td>30-Dec-18</td>\n      <td>1925</td>\n      <td>TV-PG</td>\n      <td>1 Season</td>\n      <td>TV Shows</td>\n      <td>This collection restores films from women who ...</td>\n    </tr>\n    <tr>\n      <th>4076</th>\n      <td>80161851</td>\n      <td>TV Show</td>\n      <td>Pioneers of African-American Cinema</td>\n      <td>01-Feb-17</td>\n      <td>1946</td>\n      <td>TV-14</td>\n      <td>1 Season</td>\n      <td>TV Shows</td>\n      <td>This newly preserved collection features more ...</td>\n    </tr>\n    <tr>\n      <th>5978</th>\n      <td>70172488</td>\n      <td>TV Show</td>\n      <td>The Twilight Zone (Original Series)</td>\n      <td>July 1, 2017</td>\n      <td>1963</td>\n      <td>TV-PG</td>\n      <td>4 Seasons</td>\n      <td>Classic &amp; Cult TV, TV Sci-Fi &amp; Fantasy</td>\n      <td>Hosted by creator Rod Serling, this groundbrea...</td>\n    </tr>\n    <tr>\n      <th>5977</th>\n      <td>70155574</td>\n      <td>TV Show</td>\n      <td>The Andy Griffith Show</td>\n      <td>July 1, 2017</td>\n      <td>1967</td>\n      <td>TV-G</td>\n      <td>8 Seasons</td>\n      <td>Classic &amp; Cult TV, TV Comedies</td>\n      <td>Homespun humor and easygoing Sheriff Andy Tayl...</td>\n    </tr>\n    <tr>\n      <th>5701</th>\n      <td>70136140</td>\n      <td>TV Show</td>\n      <td>Star Trek</td>\n      <td>October 1, 2017</td>\n      <td>1968</td>\n      <td>TV-PG</td>\n      <td>3 Seasons</td>\n      <td>Classic &amp; Cult TV, TV Action &amp; Adventure, TV S...</td>\n      <td>Led by unflappable Capt. Kirk, the crew of the...</td>\n    </tr>\n    <tr>\n      <th>...</th>\n      <td>...</td>\n      <td>...</td>\n      <td>...</td>\n      <td>...</td>\n      <td>...</td>\n      <td>...</td>\n      <td>...</td>\n      <td>...</td>\n      <td>...</td>\n    </tr>\n    <tr>\n      <th>3423</th>\n      <td>80221553</td>\n      <td>TV Show</td>\n      <td>Kipo and the Age of Wonderbeasts</td>\n      <td>14-Jan-20</td>\n      <td>2020</td>\n      <td>TV-Y7-FV</td>\n      <td>1 Season</td>\n      <td>Kids' TV, TV Comedies</td>\n      <td>Making her way through a world of mutant anima...</td>\n    </tr>\n    <tr>\n      <th>3376</th>\n      <td>81062828</td>\n      <td>TV Show</td>\n      <td>Killer Inside: The Mind of Aaron Hernandez</td>\n      <td>15-Jan-20</td>\n      <td>2020</td>\n      <td>TV-MA</td>\n      <td>1 Season</td>\n      <td>Crime TV Shows, Docuseries</td>\n      <td>Via interviews with friends, players and insid...</td>\n    </tr>\n    <tr>\n      <th>3360</th>\n      <td>80996973</td>\n      <td>TV Show</td>\n      <td>Handsome Siblings</td>\n      <td>16-Jan-20</td>\n      <td>2020</td>\n      <td>TV-14</td>\n      <td>1 Season</td>\n      <td>International TV Shows, TV Dramas, TV Sci-Fi &amp;...</td>\n      <td>Clashing martial arts twins face relentless vi...</td>\n    </tr>\n    <tr>\n      <th>3350</th>\n      <td>80995039</td>\n      <td>TV Show</td>\n      <td>Ares</td>\n      <td>17-Jan-20</td>\n      <td>2020</td>\n      <td>TV-MA</td>\n      <td>1 Season</td>\n      <td>International TV Shows, TV Dramas, TV Horror</td>\n      <td>Aiming to become part of Amsterdam's elite, an...</td>\n    </tr>\n    <tr>\n      <th>3351</th>\n      <td>81062580</td>\n      <td>TV Show</td>\n      <td>Nailed It! Germany</td>\n      <td>17-Jan-20</td>\n      <td>2020</td>\n      <td>TV-14</td>\n      <td>1 Season</td>\n      <td>International TV Shows, Reality TV</td>\n      <td>Home cooks try ??and inevitably fail ??to re-c...</td>\n    </tr>\n  </tbody>\n</table>\n<p>1968 rows × 9 columns</p>\n</div>"
     },
     "metadata": {},
     "execution_count": 138
    }
   ],
   "source": [
    "import pandas as pd\n",
    "import numpy as np\n",
    "from matplotlib import pyplot as plt\n",
    "\n",
    "\n",
    "df = pd.read_csv(\"netflix_titles.csv\",encoding=\"latin1\")\n",
    "select = pd.DataFrame(df,columns = ['show_id', 'type', 'title', 'date_added','release_year', 'rating', 'duration','listed_in', 'description'])\n",
    "\n",
    "#select.sort_values(by = ['release_year','date_added']) 날짜별로 구분하기\n",
    "\n",
    "TV_select = select[select['type']=='TV Show'].sort_values(by = ['release_year','date_added'])   # (TVshow 구분)\n",
    "Movie_select = select[select['type']=='Movie'].sort_values(by = ['release_year','date_added'])  # (Movie 구분)\n",
    "TV_select\n",
    "# bar = df.plot.bar(grid = True)\n",
    "# bar.set_xlabel('type')\n",
    "# bar.set_ylabel('release_year')\n",
    "# bar.set_title('연습')\n",
    "\n",
    "# plt.show()\n"
   ]
  },
  {
   "cell_type": "code",
   "execution_count": 4,
   "metadata": {},
   "outputs": [
    {
     "output_type": "stream",
     "name": "stdout",
     "text": [
      "Overwriting D:\\myPyCode\\팀프로젝트\\netflix_frame_module.py\n"
     ]
    }
   ],
   "source": [
    "%%writefile D:\\myPyCode\\팀프로젝트\\netflix_frame_module.py\n",
    "import pandas as pd\n",
    "\n",
    "df = pd.read_csv(\"netflix_titles.csv\",encoding=\"latin1\")\n",
    "select = pd.DataFrame(df,columns = ['show_id', 'type', 'title', 'date_added','release_year', 'rating', 'duration','listed_in', 'description'])\n",
    "\n",
    "def netflix_date_selection(select_col,Name) :\n",
    "    #select.sort_values(by = ['release_year','date_added']) 날짜별로 구분하기\n",
    "    selection = select[select[select_col] == Name].sort_values(by = ['release_year','date_added'])\n",
    "    return selection\n",
    "    "
   ]
  },
  {
   "cell_type": "code",
   "execution_count": 5,
   "metadata": {},
   "outputs": [
    {
     "output_type": "stream",
     "name": "stdout",
     "text": [
      "d:\\myPyCode\\팀프로젝트\n"
     ]
    }
   ],
   "source": [
    "cd D:\\myPyCode\\팀프로젝트"
   ]
  },
  {
   "cell_type": "code",
   "execution_count": 7,
   "metadata": {},
   "outputs": [
    {
     "output_type": "execute_result",
     "data": {
      "text/plain": [
       "       show_id     type                                       title  \\\n",
       "4289  81030762  TV Show           Pioneers: First Women Filmmakers*   \n",
       "4076  80161851  TV Show         Pioneers of African-American Cinema   \n",
       "5978  70172488  TV Show         The Twilight Zone (Original Series)   \n",
       "5977  70155574  TV Show                      The Andy Griffith Show   \n",
       "5701  70136140  TV Show                                   Star Trek   \n",
       "...        ...      ...                                         ...   \n",
       "3423  80221553  TV Show            Kipo and the Age of Wonderbeasts   \n",
       "3376  81062828  TV Show  Killer Inside: The Mind of Aaron Hernandez   \n",
       "3360  80996973  TV Show                           Handsome Siblings   \n",
       "3350  80995039  TV Show                                        Ares   \n",
       "3351  81062580  TV Show                          Nailed It! Germany   \n",
       "\n",
       "            date_added  release_year    rating   duration  \\\n",
       "4289         30-Dec-18          1925     TV-PG   1 Season   \n",
       "4076         01-Feb-17          1946     TV-14   1 Season   \n",
       "5978      July 1, 2017          1963     TV-PG  4 Seasons   \n",
       "5977      July 1, 2017          1967      TV-G  8 Seasons   \n",
       "5701   October 1, 2017          1968     TV-PG  3 Seasons   \n",
       "...                ...           ...       ...        ...   \n",
       "3423         14-Jan-20          2020  TV-Y7-FV   1 Season   \n",
       "3376         15-Jan-20          2020     TV-MA   1 Season   \n",
       "3360         16-Jan-20          2020     TV-14   1 Season   \n",
       "3350         17-Jan-20          2020     TV-MA   1 Season   \n",
       "3351         17-Jan-20          2020     TV-14   1 Season   \n",
       "\n",
       "                                              listed_in  \\\n",
       "4289                                           TV Shows   \n",
       "4076                                           TV Shows   \n",
       "5978             Classic & Cult TV, TV Sci-Fi & Fantasy   \n",
       "5977                     Classic & Cult TV, TV Comedies   \n",
       "5701  Classic & Cult TV, TV Action & Adventure, TV S...   \n",
       "...                                                 ...   \n",
       "3423                              Kids' TV, TV Comedies   \n",
       "3376                         Crime TV Shows, Docuseries   \n",
       "3360  International TV Shows, TV Dramas, TV Sci-Fi &...   \n",
       "3350       International TV Shows, TV Dramas, TV Horror   \n",
       "3351                 International TV Shows, Reality TV   \n",
       "\n",
       "                                            description  \n",
       "4289  This collection restores films from women who ...  \n",
       "4076  This newly preserved collection features more ...  \n",
       "5978  Hosted by creator Rod Serling, this groundbrea...  \n",
       "5977  Homespun humor and easygoing Sheriff Andy Tayl...  \n",
       "5701  Led by unflappable Capt. Kirk, the crew of the...  \n",
       "...                                                 ...  \n",
       "3423  Making her way through a world of mutant anima...  \n",
       "3376  Via interviews with friends, players and insid...  \n",
       "3360  Clashing martial arts twins face relentless vi...  \n",
       "3350  Aiming to become part of Amsterdam's elite, an...  \n",
       "3351  Home cooks try ??and inevitably fail ??to re-c...  \n",
       "\n",
       "[1968 rows x 9 columns]"
      ],
      "text/html": "<div>\n<style scoped>\n    .dataframe tbody tr th:only-of-type {\n        vertical-align: middle;\n    }\n\n    .dataframe tbody tr th {\n        vertical-align: top;\n    }\n\n    .dataframe thead th {\n        text-align: right;\n    }\n</style>\n<table border=\"1\" class=\"dataframe\">\n  <thead>\n    <tr style=\"text-align: right;\">\n      <th></th>\n      <th>show_id</th>\n      <th>type</th>\n      <th>title</th>\n      <th>date_added</th>\n      <th>release_year</th>\n      <th>rating</th>\n      <th>duration</th>\n      <th>listed_in</th>\n      <th>description</th>\n    </tr>\n  </thead>\n  <tbody>\n    <tr>\n      <th>4289</th>\n      <td>81030762</td>\n      <td>TV Show</td>\n      <td>Pioneers: First Women Filmmakers*</td>\n      <td>30-Dec-18</td>\n      <td>1925</td>\n      <td>TV-PG</td>\n      <td>1 Season</td>\n      <td>TV Shows</td>\n      <td>This collection restores films from women who ...</td>\n    </tr>\n    <tr>\n      <th>4076</th>\n      <td>80161851</td>\n      <td>TV Show</td>\n      <td>Pioneers of African-American Cinema</td>\n      <td>01-Feb-17</td>\n      <td>1946</td>\n      <td>TV-14</td>\n      <td>1 Season</td>\n      <td>TV Shows</td>\n      <td>This newly preserved collection features more ...</td>\n    </tr>\n    <tr>\n      <th>5978</th>\n      <td>70172488</td>\n      <td>TV Show</td>\n      <td>The Twilight Zone (Original Series)</td>\n      <td>July 1, 2017</td>\n      <td>1963</td>\n      <td>TV-PG</td>\n      <td>4 Seasons</td>\n      <td>Classic &amp; Cult TV, TV Sci-Fi &amp; Fantasy</td>\n      <td>Hosted by creator Rod Serling, this groundbrea...</td>\n    </tr>\n    <tr>\n      <th>5977</th>\n      <td>70155574</td>\n      <td>TV Show</td>\n      <td>The Andy Griffith Show</td>\n      <td>July 1, 2017</td>\n      <td>1967</td>\n      <td>TV-G</td>\n      <td>8 Seasons</td>\n      <td>Classic &amp; Cult TV, TV Comedies</td>\n      <td>Homespun humor and easygoing Sheriff Andy Tayl...</td>\n    </tr>\n    <tr>\n      <th>5701</th>\n      <td>70136140</td>\n      <td>TV Show</td>\n      <td>Star Trek</td>\n      <td>October 1, 2017</td>\n      <td>1968</td>\n      <td>TV-PG</td>\n      <td>3 Seasons</td>\n      <td>Classic &amp; Cult TV, TV Action &amp; Adventure, TV S...</td>\n      <td>Led by unflappable Capt. Kirk, the crew of the...</td>\n    </tr>\n    <tr>\n      <th>...</th>\n      <td>...</td>\n      <td>...</td>\n      <td>...</td>\n      <td>...</td>\n      <td>...</td>\n      <td>...</td>\n      <td>...</td>\n      <td>...</td>\n      <td>...</td>\n    </tr>\n    <tr>\n      <th>3423</th>\n      <td>80221553</td>\n      <td>TV Show</td>\n      <td>Kipo and the Age of Wonderbeasts</td>\n      <td>14-Jan-20</td>\n      <td>2020</td>\n      <td>TV-Y7-FV</td>\n      <td>1 Season</td>\n      <td>Kids' TV, TV Comedies</td>\n      <td>Making her way through a world of mutant anima...</td>\n    </tr>\n    <tr>\n      <th>3376</th>\n      <td>81062828</td>\n      <td>TV Show</td>\n      <td>Killer Inside: The Mind of Aaron Hernandez</td>\n      <td>15-Jan-20</td>\n      <td>2020</td>\n      <td>TV-MA</td>\n      <td>1 Season</td>\n      <td>Crime TV Shows, Docuseries</td>\n      <td>Via interviews with friends, players and insid...</td>\n    </tr>\n    <tr>\n      <th>3360</th>\n      <td>80996973</td>\n      <td>TV Show</td>\n      <td>Handsome Siblings</td>\n      <td>16-Jan-20</td>\n      <td>2020</td>\n      <td>TV-14</td>\n      <td>1 Season</td>\n      <td>International TV Shows, TV Dramas, TV Sci-Fi &amp;...</td>\n      <td>Clashing martial arts twins face relentless vi...</td>\n    </tr>\n    <tr>\n      <th>3350</th>\n      <td>80995039</td>\n      <td>TV Show</td>\n      <td>Ares</td>\n      <td>17-Jan-20</td>\n      <td>2020</td>\n      <td>TV-MA</td>\n      <td>1 Season</td>\n      <td>International TV Shows, TV Dramas, TV Horror</td>\n      <td>Aiming to become part of Amsterdam's elite, an...</td>\n    </tr>\n    <tr>\n      <th>3351</th>\n      <td>81062580</td>\n      <td>TV Show</td>\n      <td>Nailed It! Germany</td>\n      <td>17-Jan-20</td>\n      <td>2020</td>\n      <td>TV-14</td>\n      <td>1 Season</td>\n      <td>International TV Shows, Reality TV</td>\n      <td>Home cooks try ??and inevitably fail ??to re-c...</td>\n    </tr>\n  </tbody>\n</table>\n<p>1968 rows × 9 columns</p>\n</div>"
     },
     "metadata": {},
     "execution_count": 7
    }
   ],
   "source": [
    "import pandas as pd\n",
    "import numpy as np\n",
    "from matplotlib import pyplot as plt\n",
    "from netflix_frame_module import netflix_date_selection\n",
    "\n",
    "\n",
    "TV_select = pd.DataFrame(netflix_date_selection('type','TV Show'))\n",
    "Movie_select = pd.DataFrame(netflix_date_selection('type','Movie'))\n",
    "\n",
    "# bar = df.plot.bar(grid = True)\n",
    "# bar.set_xlabel('type')\n",
    "# bar.set_ylabel('release_year')\n",
    "# bar.set_title('연습')\n",
    "\n",
    "# plt.show()\n",
    "TV_select"
   ]
  },
  {
   "cell_type": "code",
   "execution_count": null,
   "metadata": {},
   "outputs": [],
   "source": []
  }
 ]
}